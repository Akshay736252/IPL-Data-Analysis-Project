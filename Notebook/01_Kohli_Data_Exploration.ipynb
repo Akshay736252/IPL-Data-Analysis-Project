{
 "cells": [
  {
   "cell_type": "code",
   "execution_count": 5,
   "id": "8f16201f",
   "metadata": {},
   "outputs": [],
   "source": [
    "import sys\n",
    "sys.path.append('../Code')  # Adjusts path to import from Code folder\n",
    "\n",
    "from data_loader import load_excel\n",
    "from ipl_stats_calculator import get_total_runs, get_average_runs, get_total_centuries\n",
    "from utils import clean_column_names\n",
    "from visualization_helpers import plot_total_runs, plot_top_batsmen\n",
    "\n",
    "import os\n"
   ]
  },
  {
   "cell_type": "code",
   "execution_count": 6,
   "id": "35feac51",
   "metadata": {},
   "outputs": [],
   "source": [
    "file_path = '../Data/Virat_Kohli_YearWise_with_IPL.xlsx'  # Replace with the exact file name\n",
    "\n",
    "df = load_excel(file_path)\n"
   ]
  },
  {
   "cell_type": "code",
   "execution_count": 7,
   "id": "0493abfa",
   "metadata": {},
   "outputs": [
    {
     "name": "stdout",
     "output_type": "stream",
     "text": [
      "✅ Data Loaded Successfully!\n",
      "  Format  Year  Matches  Innings  Runs  Average HighestScore  Fifties  \\\n",
      "0   Test  2011        3        5   202     22.4           63        2   \n",
      "1   Test  2016       12       20  1215     75.0          200        5   \n",
      "2   Test  2019       15       25  1408     56.3         254*        6   \n",
      "3   Test  2023        6       10   550     55.0          120        2   \n",
      "4    ODI  2011       34       34  1381     47.6          117        8   \n",
      "\n",
      "   Centuries  \n",
      "0          0  \n",
      "1          3  \n",
      "2          5  \n",
      "3          1  \n",
      "4          4  \n"
     ]
    }
   ],
   "source": [
    "if df is not None:\n",
    "    print(\"✅ Data Loaded Successfully!\")\n",
    "    print(df.head())\n",
    "else:\n",
    "    print(\"❌ Failed to load data. Check file name or path.\")\n"
   ]
  },
  {
   "cell_type": "code",
   "execution_count": 8,
   "id": "4fc6c661",
   "metadata": {},
   "outputs": [
    {
     "data": {
      "text/html": [
       "<div>\n",
       "<style scoped>\n",
       "    .dataframe tbody tr th:only-of-type {\n",
       "        vertical-align: middle;\n",
       "    }\n",
       "\n",
       "    .dataframe tbody tr th {\n",
       "        vertical-align: top;\n",
       "    }\n",
       "\n",
       "    .dataframe thead th {\n",
       "        text-align: right;\n",
       "    }\n",
       "</style>\n",
       "<table border=\"1\" class=\"dataframe\">\n",
       "  <thead>\n",
       "    <tr style=\"text-align: right;\">\n",
       "      <th></th>\n",
       "      <th>Format</th>\n",
       "      <th>Year</th>\n",
       "      <th>Matches</th>\n",
       "      <th>Innings</th>\n",
       "      <th>Runs</th>\n",
       "      <th>Average</th>\n",
       "      <th>HighestScore</th>\n",
       "      <th>Fifties</th>\n",
       "      <th>Centuries</th>\n",
       "    </tr>\n",
       "  </thead>\n",
       "  <tbody>\n",
       "    <tr>\n",
       "      <th>0</th>\n",
       "      <td>Test</td>\n",
       "      <td>2011</td>\n",
       "      <td>3</td>\n",
       "      <td>5</td>\n",
       "      <td>202</td>\n",
       "      <td>22.4</td>\n",
       "      <td>63</td>\n",
       "      <td>2</td>\n",
       "      <td>0</td>\n",
       "    </tr>\n",
       "    <tr>\n",
       "      <th>1</th>\n",
       "      <td>Test</td>\n",
       "      <td>2016</td>\n",
       "      <td>12</td>\n",
       "      <td>20</td>\n",
       "      <td>1215</td>\n",
       "      <td>75.0</td>\n",
       "      <td>200</td>\n",
       "      <td>5</td>\n",
       "      <td>3</td>\n",
       "    </tr>\n",
       "    <tr>\n",
       "      <th>2</th>\n",
       "      <td>Test</td>\n",
       "      <td>2019</td>\n",
       "      <td>15</td>\n",
       "      <td>25</td>\n",
       "      <td>1408</td>\n",
       "      <td>56.3</td>\n",
       "      <td>254*</td>\n",
       "      <td>6</td>\n",
       "      <td>5</td>\n",
       "    </tr>\n",
       "    <tr>\n",
       "      <th>3</th>\n",
       "      <td>Test</td>\n",
       "      <td>2023</td>\n",
       "      <td>6</td>\n",
       "      <td>10</td>\n",
       "      <td>550</td>\n",
       "      <td>55.0</td>\n",
       "      <td>120</td>\n",
       "      <td>2</td>\n",
       "      <td>1</td>\n",
       "    </tr>\n",
       "    <tr>\n",
       "      <th>4</th>\n",
       "      <td>ODI</td>\n",
       "      <td>2011</td>\n",
       "      <td>34</td>\n",
       "      <td>34</td>\n",
       "      <td>1381</td>\n",
       "      <td>47.6</td>\n",
       "      <td>117</td>\n",
       "      <td>8</td>\n",
       "      <td>4</td>\n",
       "    </tr>\n",
       "  </tbody>\n",
       "</table>\n",
       "</div>"
      ],
      "text/plain": [
       "  Format  Year  Matches  Innings  Runs  Average HighestScore  Fifties  \\\n",
       "0   Test  2011        3        5   202     22.4           63        2   \n",
       "1   Test  2016       12       20  1215     75.0          200        5   \n",
       "2   Test  2019       15       25  1408     56.3         254*        6   \n",
       "3   Test  2023        6       10   550     55.0          120        2   \n",
       "4    ODI  2011       34       34  1381     47.6          117        8   \n",
       "\n",
       "   Centuries  \n",
       "0          0  \n",
       "1          3  \n",
       "2          5  \n",
       "3          1  \n",
       "4          4  "
      ]
     },
     "execution_count": 8,
     "metadata": {},
     "output_type": "execute_result"
    }
   ],
   "source": [
    "df = clean_column_names(df)\n",
    "df.head()\n"
   ]
  },
  {
   "cell_type": "code",
   "execution_count": 9,
   "id": "689d22e7",
   "metadata": {},
   "outputs": [
    {
     "name": "stdout",
     "output_type": "stream",
     "text": [
      "Shape of Data: (28, 9)\n",
      "\n",
      "Columns:\n",
      " Index(['Format', 'Year', 'Matches', 'Innings', 'Runs', 'Average',\n",
      "       'HighestScore', 'Fifties', 'Centuries'],\n",
      "      dtype='object')\n",
      "\n",
      "Missing Values:\n",
      " Format          0\n",
      "Year            0\n",
      "Matches         0\n",
      "Innings         0\n",
      "Runs            0\n",
      "Average         0\n",
      "HighestScore    0\n",
      "Fifties         0\n",
      "Centuries       0\n",
      "dtype: int64\n",
      "\n",
      "Data Types:\n",
      " Format           object\n",
      "Year              int64\n",
      "Matches           int64\n",
      "Innings           int64\n",
      "Runs              int64\n",
      "Average         float64\n",
      "HighestScore     object\n",
      "Fifties           int64\n",
      "Centuries         int64\n",
      "dtype: object\n"
     ]
    }
   ],
   "source": [
    "print(\"Shape of Data:\", df.shape)\n",
    "print(\"\\nColumns:\\n\", df.columns)\n",
    "print(\"\\nMissing Values:\\n\", df.isnull().sum())\n",
    "print(\"\\nData Types:\\n\", df.dtypes)\n"
   ]
  },
  {
   "cell_type": "code",
   "execution_count": null,
   "id": "b45ae756",
   "metadata": {},
   "outputs": [],
   "source": []
  }
 ],
 "metadata": {
  "kernelspec": {
   "display_name": "base",
   "language": "python",
   "name": "python3"
  },
  "language_info": {
   "codemirror_mode": {
    "name": "ipython",
    "version": 3
   },
   "file_extension": ".py",
   "mimetype": "text/x-python",
   "name": "python",
   "nbconvert_exporter": "python",
   "pygments_lexer": "ipython3",
   "version": "3.12.7"
  }
 },
 "nbformat": 4,
 "nbformat_minor": 5
}
