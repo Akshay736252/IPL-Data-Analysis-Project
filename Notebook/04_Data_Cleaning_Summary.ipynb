{
 "cells": [
  {
   "cell_type": "markdown",
   "id": "28758057",
   "metadata": {},
   "source": [
    "# 🧹 Data Cleaning Summary\n",
    "\n",
    "This notebook summarizes all the key data cleaning steps performed during the IPL Data Analysis project. Proper cleaning ensures the data is reliable, consistent, and ready for visualization or reporting.\n"
   ]
  },
  {
   "cell_type": "code",
   "execution_count": 5,
   "id": "12586a5a",
   "metadata": {},
   "outputs": [
    {
     "name": "stdout",
     "output_type": "stream",
     "text": [
      "<class 'pandas.core.frame.DataFrame'>\n",
      "RangeIndex: 28 entries, 0 to 27\n",
      "Data columns (total 9 columns):\n",
      " #   Column        Non-Null Count  Dtype  \n",
      "---  ------        --------------  -----  \n",
      " 0   Format        28 non-null     object \n",
      " 1   Year          28 non-null     int64  \n",
      " 2   Matches       28 non-null     int64  \n",
      " 3   Innings       28 non-null     int64  \n",
      " 4   Runs          28 non-null     int64  \n",
      " 5   Average       28 non-null     float64\n",
      " 6   HighestScore  28 non-null     object \n",
      " 7   Fifties       28 non-null     int64  \n",
      " 8   Centuries     28 non-null     int64  \n",
      "dtypes: float64(1), int64(6), object(2)\n",
      "memory usage: 2.1+ KB\n"
     ]
    }
   ],
   "source": [
    "# Importing necessary libraries\n",
    "import pandas as pd\n",
    "\n",
    "# Load the cleaned dataset (adjust path/filename as needed)\n",
    "df = pd.read_csv('../Data/Virat_Kohli_YearWise_with_IPL.csv')\n",
    "\n",
    "# Overview of the dataset\n",
    "df.info()\n"
   ]
  },
  {
   "cell_type": "markdown",
   "id": "45446257",
   "metadata": {},
   "source": [
    "## 🔍 Null Values & Duplicates Check\n",
    "\n",
    "We check for missing values and duplicated rows to ensure data quality.\n"
   ]
  },
  {
   "cell_type": "code",
   "execution_count": 6,
   "id": "4e644397",
   "metadata": {},
   "outputs": [
    {
     "name": "stdout",
     "output_type": "stream",
     "text": [
      "Null values in each column:\n",
      "Format          0\n",
      "Year            0\n",
      "Matches         0\n",
      "Innings         0\n",
      "Runs            0\n",
      "Average         0\n",
      "HighestScore    0\n",
      "Fifties         0\n",
      "Centuries       0\n",
      "dtype: int64\n",
      "\n",
      "Duplicate rows: 0\n"
     ]
    }
   ],
   "source": [
    "# Checking for null values\n",
    "print(\"Null values in each column:\")\n",
    "print(df.isnull().sum())\n",
    "\n",
    "# Checking for duplicates\n",
    "print(\"\\nDuplicate rows:\", df.duplicated().sum())\n"
   ]
  },
  {
   "cell_type": "markdown",
   "id": "dedadeec",
   "metadata": {},
   "source": [
    "## 🧾 Data Type Conversion\n",
    "\n",
    "Ensured columns like `Year`, `Matches`, and `Runs` were in the correct format (e.g., integers). This improves accuracy during plotting and calculation.\n"
   ]
  },
  {
   "cell_type": "code",
   "execution_count": 7,
   "id": "a80fc406",
   "metadata": {},
   "outputs": [],
   "source": [
    "# Fixing data types (example if needed)\n",
    "df['Year'] = df['Year'].astype(int)\n",
    "df['Runs'] = pd.to_numeric(df['Runs'], errors='coerce')\n",
    "\n"
   ]
  },
  {
   "cell_type": "markdown",
   "id": "bc6c18e7",
   "metadata": {},
   "source": [
    "## ✏️ Column Renaming (if applicable)\n",
    "\n",
    "Renamed inconsistent column headers to maintain uniformity.\n"
   ]
  },
  {
   "cell_type": "code",
   "execution_count": 8,
   "id": "09c47af5",
   "metadata": {},
   "outputs": [],
   "source": [
    "df.rename(columns={\n",
    "    '50s': 'Fifties',\n",
    "    '100s': 'Centuries'\n",
    "}, inplace=True)\n"
   ]
  },
  {
   "cell_type": "markdown",
   "id": "40ee1f3b",
   "metadata": {},
   "source": [
    "## ✅ Final Statement\n",
    "\n",
    "The dataset has been successfully cleaned and validated. It's now ready for use in statistical analysis, visualizations, and dashboarding.\n"
   ]
  }
 ],
 "metadata": {
  "kernelspec": {
   "display_name": "base",
   "language": "python",
   "name": "python3"
  },
  "language_info": {
   "codemirror_mode": {
    "name": "ipython",
    "version": 3
   },
   "file_extension": ".py",
   "mimetype": "text/x-python",
   "name": "python",
   "nbconvert_exporter": "python",
   "pygments_lexer": "ipython3",
   "version": "3.12.7"
  }
 },
 "nbformat": 4,
 "nbformat_minor": 5
}
